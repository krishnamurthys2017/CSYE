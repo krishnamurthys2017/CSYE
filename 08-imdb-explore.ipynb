{
    "metadata": {
        "language_info": {
            "codemirror_mode": {
                "name": "ipython", 
                "version": 2
            }, 
            "pygments_lexer": "ipython2", 
            "file_extension": ".py", 
            "name": "python", 
            "mimetype": "text/x-python", 
            "nbconvert_exporter": "python", 
            "version": "2.7.12"
        }, 
        "kernelspec": {
            "display_name": "Python [default]", 
            "name": "python2", 
            "language": "python"
        }
    }, 
    "nbformat": 4, 
    "cells": [
        {
            "metadata": {}, 
            "source": "# Exploration of the IMDB dataset\n\nThe dataset is originally from http://ai.stanford.edu/~amaas/data/sentiment/\n", 
            "cell_type": "markdown"
        }, 
        {
            "source": "%matplotlib inline", 
            "metadata": {
                "collapsed": true
            }, 
            "execution_count": 13, 
            "cell_type": "code", 
            "outputs": []
        }, 
        {
            "source": "from __future__ import print_function\n\nfrom keras.datasets import imdb\n\nimport cPickle as pickle\nimport os.path\n\nimport numpy as np\nimport matplotlib.pyplot as plt\nimport seaborn as sns\nsns.set_style('white')\nsns.set_context(\"notebook\", font_scale=1.5, rc={\"lines.linewidth\": 2.5})", 
            "metadata": {
                "collapsed": false
            }, 
            "execution_count": 1, 
            "cell_type": "code", 
            "outputs": [
                {
                    "name": "stderr", 
                    "output_type": "stream", 
                    "text": "Using TensorFlow backend.\n"
                }
            ]
        }, 
        {
            "source": "max_features = 20000\n\n# To work around bug in latest version of the dataset in Keras,\n# load older version manually, downloaded from \n# https://s3.amazonaws.com/text-datasets/imdb_full.pkl\nprint('Loading data...')\npath = os.path.expanduser('~/.keras/datasets/imdb_full.pkl')\nf = open(path, 'rb')\n(x_train, y_train), (x_test, y_test) = pickle.load(f)\nprint(len(x_train), 'train sequences')\nprint(len(x_test), 'test sequences')", 
            "metadata": {
                "collapsed": false
            }, 
            "execution_count": 2, 
            "cell_type": "code", 
            "outputs": [
                {
                    "name": "stdout", 
                    "output_type": "stream", 
                    "text": "Loading data...\n25000 train sequences\n25000 test sequences\n"
                }
            ]
        }, 
        {
            "source": "# what does the data look like?\nx_train[0]", 
            "metadata": {
                "collapsed": false
            }, 
            "execution_count": 3, 
            "cell_type": "code", 
            "outputs": [
                {
                    "data": {
                        "text/plain": "[23022,\n 309,\n 6,\n 3,\n 1069,\n 209,\n 9,\n 2175,\n 30,\n 1,\n 169,\n 55,\n 14,\n 46,\n 82,\n 5869,\n 41,\n 393,\n 110,\n 138,\n 14,\n 5359,\n 58,\n 4477,\n 150,\n 8,\n 1,\n 5032,\n 5948,\n 482,\n 69,\n 5,\n 261,\n 12,\n 23022,\n 73935,\n 2003,\n 6,\n 73,\n 2436,\n 5,\n 632,\n 71,\n 6,\n 5359,\n 1,\n 25279,\n 5,\n 2004,\n 10471,\n 1,\n 5941,\n 1534,\n 34,\n 67,\n 64,\n 205,\n 140,\n 65,\n 1232,\n 63526,\n 21145,\n 1,\n 49265,\n 4,\n 1,\n 223,\n 901,\n 29,\n 3024,\n 69,\n 4,\n 1,\n 5863,\n 10,\n 694,\n 2,\n 65,\n 1534,\n 51,\n 10,\n 216,\n 1,\n 387,\n 8,\n 60,\n 3,\n 1472,\n 3724,\n 802,\n 5,\n 3521,\n 177,\n 1,\n 393,\n 10,\n 1238,\n 14030,\n 30,\n 309,\n 3,\n 353,\n 344,\n 2989,\n 143,\n 130,\n 5,\n 7804,\n 28,\n 4,\n 126,\n 5359,\n 1472,\n 2375,\n 5,\n 23022,\n 309,\n 10,\n 532,\n 12,\n 108,\n 1470,\n 4,\n 58,\n 556,\n 101,\n 12,\n 23022,\n 309,\n 6,\n 227,\n 4187,\n 48,\n 3,\n 2237,\n 12,\n 9,\n 215]"
                    }, 
                    "metadata": {}, 
                    "execution_count": 3, 
                    "output_type": "execute_result"
                }
            ]
        }, 
        {
            "metadata": {}, 
            "source": "Hmm. That doesn't look like a movie review! The words are replaced by indexes. Let's convert that review back to text.", 
            "cell_type": "markdown"
        }, 
        {
            "source": "word2index = imdb.get_word_index()", 
            "metadata": {
                "collapsed": false
            }, 
            "execution_count": 4, 
            "cell_type": "code", 
            "outputs": []
        }, 
        {
            "source": "word2index.items()[:5]", 
            "metadata": {
                "collapsed": false
            }, 
            "execution_count": 5, 
            "cell_type": "code", 
            "outputs": [
                {
                    "data": {
                        "text/plain": "[(u'fawn', 34701),\n (u'tsukino', 52006),\n (u'nunnery', 52007),\n (u'sonja', 16816),\n (u'vani', 63951)]"
                    }, 
                    "metadata": {}, 
                    "execution_count": 5, 
                    "output_type": "execute_result"
                }
            ]
        }, 
        {
            "source": "# we want the other direction\nindex2word = dict([(i,w) for (w,i) in word2index.items()])", 
            "metadata": {
                "collapsed": true
            }, 
            "execution_count": 6, 
            "cell_type": "code", 
            "outputs": []
        }, 
        {
            "source": "print('\\n'.join([index2word[i] for i in range(1,20)]))", 
            "metadata": {
                "collapsed": false
            }, 
            "execution_count": 30, 
            "cell_type": "code", 
            "outputs": [
                {
                    "name": "stdout", 
                    "output_type": "stream", 
                    "text": "the\nand\na\nof\nto\nis\nbr\nin\nit\ni\nthis\nthat\nwas\nas\nfor\nwith\nmovie\nbut\nfilm\n"
                }
            ]
        }, 
        {
            "metadata": {}, 
            "source": "Note that words are indexed in descending order of frequency. This means we can remove words with high index if we want to reduce the vocab size.", 
            "cell_type": "markdown"
        }, 
        {
            "source": "def totext(review):\n    return ' '.join(index2word[i] for i in review)\n\nfor review in x_train[:10]:\n    # let's look at the first 30 words\n    print(totext(review[:30]))\n    print('\\n')", 
            "metadata": {
                "scrolled": false, 
                "collapsed": false
            }, 
            "execution_count": 9, 
            "cell_type": "code", 
            "outputs": [
                {
                    "name": "stdout", 
                    "output_type": "stream", 
                    "text": "bromwell high is a cartoon comedy it ran at the same time as some other programs about school life such as teachers my 35 years in the teaching profession lead\n\n\nhomelessness or houselessness as george carlin stated has been an issue for years but never a plan to help those on the street that were once considered human who did\n\n\nbrilliant over acting by lesley ann warren best dramatic hobo lady i have ever seen and love scenes in clothes warehouse are second to none the corn on face is\n\n\nthis is easily the most underrated film inn the brooks cannon sure its flawed it does not give a realistic view of homelessness unlike say how citizen kane gave a\n\n\nthis is not the typical mel brooks film it was much less slapstick than most of his movies and actually had a plot that was followable leslie ann warren made\n\n\nthis isn't the comedic robin williams nor is it the quirky insane robin williams of recent thriller fame this is a hybrid of the classic drama without over dramatization mixed\n\n\nyes its an art to successfully make a slow paced thriller br br the story unfolds in nice volumes while you don't even notice it happening br br fine performance\n\n\nin this critically acclaimed psychological thriller based on true events gabriel robin williams a celebrated writer and late night talk show host becomes captivated by the harrowing story of a\n\n\nthe night listener 2006 1 2 robin williams toni collette bobby cannavale rory culkin joe morton sandra oh john cullum lisa emery becky ann baker dir patrick stettner br br\n\n\nyou know robin williams god bless him is constantly shooting himself in the foot lately with all these dumb comedies he has done this decade with perhaps the exception of\n\n\n"
                }
            ]
        }, 
        {
            "source": "# what about labels?\ny_train[1]", 
            "metadata": {
                "collapsed": false
            }, 
            "execution_count": 10, 
            "cell_type": "code", 
            "outputs": [
                {
                    "data": {
                        "text/plain": "1"
                    }, 
                    "metadata": {}, 
                    "execution_count": 10, 
                    "output_type": "execute_result"
                }
            ]
        }, 
        {
            "source": "# how many labels?\nnp.unique(y_train)", 
            "metadata": {
                "collapsed": false
            }, 
            "execution_count": 11, 
            "cell_type": "code", 
            "outputs": [
                {
                    "data": {
                        "text/plain": "array([0, 1])"
                    }, 
                    "metadata": {}, 
                    "execution_count": 11, 
                    "output_type": "execute_result"
                }
            ]
        }, 
        {
            "source": "# label balance\nnp.unique(y_train, return_counts=True)", 
            "metadata": {
                "collapsed": false
            }, 
            "execution_count": 26, 
            "cell_type": "code", 
            "outputs": [
                {
                    "data": {
                        "text/plain": "(array([0, 1]), array([12500, 12500]))"
                    }, 
                    "metadata": {}, 
                    "execution_count": 26, 
                    "output_type": "execute_result"
                }
            ]
        }, 
        {
            "metadata": {}, 
            "source": "Evenly balanced between positive (we could also have read this in the docs, but it's good to confirm :)", 
            "cell_type": "markdown"
        }, 
        {
            "metadata": {}, 
            "source": "How long are the reviews?", 
            "cell_type": "markdown"
        }, 
        {
            "source": "lengths = map(len, x_train)\nfig, axs = plt.subplots(2,1, figsize=(3,5))\naxs[0].hist(lengths, bins=30)\naxs[1].hist(lengths, bins=30, cumulative=True, normed=True)\naxs[1].set_xlim([0,800])\naxs[1].set_xticks(range(0,800,150))\n\nsns.despine(fig)", 
            "metadata": {
                "collapsed": false
            }, 
            "execution_count": 25, 
            "cell_type": "code", 
            "outputs": [
                {
                    "data": {
                        "text/plain": "<matplotlib.figure.Figure at 0x117e79b10>", 
                        "image/png": "[encoded data removed]"
                    }, 
                    "metadata": {}, 
                    "output_type": "display_data"
                }
            ]
        }, 
        {
            "metadata": {}, 
            "source": "We'll want to truncate long reviews and pad short ones to the same length. 300-500 seems like a reasonable option to keep most of the data.", 
            "cell_type": "markdown"
        }
    ], 
    "nbformat_minor": 1
}